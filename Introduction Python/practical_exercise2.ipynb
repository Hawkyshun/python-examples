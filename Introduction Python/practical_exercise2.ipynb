{
  "nbformat": 4,
  "nbformat_minor": 0,
  "metadata": {
    "colab": {
      "provenance": []
    },
    "kernelspec": {
      "name": "python3",
      "display_name": "Python 3"
    },
    "language_info": {
      "name": "python"
    }
  },
  "cells": [
    {
      "cell_type": "markdown",
      "source": [
        "# Practical exercise 2:  You are a game developer :)\n",
        "\n",
        "In this practical exercise you are a game developer. You will program your first game – Rock, Paper, Scissors.\n",
        "\n",
        "If you are not familiar with the game, you can read about it here: https://en.wikipedia.org/wiki/Rock_paper_scissors.\n",
        "\n",
        "You will program the game step by step. Please read the instructions carefully. There are hints and important explanations that will help you with this exercise."
      ],
      "metadata": {
        "id": "tBDsFMQwBs6Z"
      }
    },
    {
      "cell_type": "markdown",
      "source": [
        "##Warm up\n",
        "\n",
        "Each player can choose between the three actions \"rock\", \"paper\" and \"scissors\". First, you need to create a list that contains all possible actions. "
      ],
      "metadata": {
        "id": "ymULFKyosM3d"
      }
    },
    {
      "cell_type": "code",
      "source": [
        "#Please create a list containing the three actions of the game.\n",
        "game = (\"rock\", \"paper\", \"scissors\")"
      ],
      "metadata": {
        "id": "0w6HGZBvsvru"
      },
      "execution_count": 1,
      "outputs": []
    },
    {
      "cell_type": "markdown",
      "source": [
        "# Choose an action\n",
        "\n",
        "Now you have the list with the actions ready. The next step is to let Python randomly choose an action from this list. Each player has to make a choice, so Python has to make a choice for player 1 and another one for player 2.\n",
        "\n",
        "📌The built-in module \"random\" can help you with this. As you might remember from previous lessons you can use the .randint() method to generate random numbers.\n",
        "\n",
        "📌📌There is another method in the random module called .choice(). It takes a list as input and selects an item randomly from that list.\n",
        "\n"
      ],
      "metadata": {
        "id": "cnWVzlo1vBy8"
      }
    },
    {
      "cell_type": "code",
      "source": [
        "#Import the random library\n",
        "import random\n",
        "\n",
        "#Select a random action for each player\n",
        "player1 = random.choice(game)\n",
        "player2 = random.choice(game)\n",
        "#Use the print function to print the players choices\n",
        "print(player1, player2)"
      ],
      "metadata": {
        "id": "bdlEyJC2xPOw",
        "colab": {
          "base_uri": "https://localhost:8080/"
        },
        "outputId": "e4ff2f0f-5674-4ef5-f8fd-ac72df759e99"
      },
      "execution_count": 2,
      "outputs": [
        {
          "output_type": "stream",
          "name": "stdout",
          "text": [
            "paper rock\n"
          ]
        }
      ]
    },
    {
      "cell_type": "markdown",
      "source": [
        "# Determine the winner\n",
        "\n",
        "So, who won? To determine the winner, you first have to specify all possible outcomes of the game. Then you can use conditional statements to specify which outcome will lead to a win for player 1 or player 2, or a tie.\n",
        "\n",
        "First, let's start with the outcome that both users chose the same action: a tie!\n",
        "In case of a tie, the game should print the message \"Tie! Both players chose the same action.\" to the screen.\n",
        "\n",
        "📌Use conditional statements to check whether the players actions are equal to each other and *if* this condition is true the message should be printed."
      ],
      "metadata": {
        "id": "Yr7uQq1J2k6p"
      }
    },
    {
      "cell_type": "code",
      "source": [
        "#1 - Tie Condition\n",
        "#Please write an if statement to check if the players chose the same action\n",
        "\n"
      ],
      "metadata": {
        "id": "8S1F2r8NtEoN"
      },
      "execution_count": null,
      "outputs": []
    },
    {
      "cell_type": "markdown",
      "source": [
        "Now, let's focus on the remaining outcomes. We have three different actions: rock, paper and scissors.\n",
        "\n",
        "This is a list of all the possible combinations (without those that result in a tie):\n",
        "\n",
        "1.   (paper, rock)\n",
        "2.   (paper, scissors)\n",
        "3.   (scissors, rock)\n",
        "4.   (scissors, paper)\n",
        "5.   (rock, paper)\n",
        "6.   (rock, scissors)\n",
        "\n",
        "You need to check all these conditions in order to determine the winner.\n",
        "\n",
        "📌You can use the \"and\" operator to combine two actions in one conditional statement.\n",
        "\n",
        "📌📌Another approach is using nested if statements to check whether the action of player 2 beats the action of player 1.\n",
        "\n",
        "🧨💣In the cell, first copy the code you wrote for \"Tie\" conditions. Then continue to add the other outcomes using \"elif\".\n",
        "\n",
        "\n"
      ],
      "metadata": {
        "id": "6aKSif7rItma"
      }
    },
    {
      "cell_type": "code",
      "source": [
        "player1_point = 0\n",
        "player2_point = 0\n",
        "\n",
        "round_number = int(input(\"How many rounds?: \"))\n",
        "for i in range(round_number):\n",
        "  print(f\"Round {i+1}\")\n",
        "#Copy your code of the tie-conditions here\n",
        "#1 - Tie Condition\n",
        "  if player1 == player2:\n",
        "    print(\"Tie\")\n",
        "\n",
        "  #2-Winning Conditions\n",
        "  #Please add the conditional statements for the remaining combinations\n",
        "  if player1 == \"paper\":\n",
        "    if player2 == \"paper\":\n",
        "      print(\"Tie\")\n",
        "    elif player2 == \"rock\":\n",
        "      print(\"Player1 Wins\")\n",
        "      player1_point += 1\n",
        "    elif player2== \"scissors\":\n",
        "      print(\"Player2 Wins\")\n",
        "      player2_point += 1\n",
        "  elif player1 == \"rock\":\n",
        "    if player2 == \"rock\":\n",
        "      print(\"Tie\")\n",
        "    elif player2 == \"scissors\":\n",
        "      print(\"Player1 Wins\")\n",
        "      player1_point += 1\n",
        "    elif player2 == \"paper\":\n",
        "      print(\"Player2 Wins\")\n",
        "      player2_point += 1\n",
        "  elif player1 == \"scissors\":\n",
        "    if player2 == \"rock\":\n",
        "      print(\"Player2 Wins\") \n",
        "      player2_point += 1\n",
        "    elif player2 == \"scissors\":\n",
        "      print(\"Tie\") \n",
        "    elif player2 == \"paper\":\n",
        "      print(\"Player1 Wins\")\n",
        "      player1_point += 1"
      ],
      "metadata": {
        "id": "Ix9sskr5z6Td",
        "colab": {
          "base_uri": "https://localhost:8080/"
        },
        "outputId": "cadcfa28-f1e6-45ea-aaca-ad341650c8d6"
      },
      "execution_count": 5,
      "outputs": [
        {
          "output_type": "stream",
          "name": "stdout",
          "text": [
            "How many rounds?: 2\n",
            "Round 1\n",
            "Player1 Wins\n",
            "Round 2\n",
            "Player1 Wins\n"
          ]
        }
      ]
    },
    {
      "cell_type": "markdown",
      "source": [
        "# Best of 3 or 5 or single round ? :)\n",
        "\n",
        "Now that you have your game set, let's also ask the users how many rounds they want to play.\n",
        "\n",
        "📌 You can use the input function for this.\n",
        "\n",
        "And because there are multiple rounds, you need to keep track of the score. For this, you need to create a variable for each player that is 0 in the beginning.\n"
      ],
      "metadata": {
        "id": "7Ixf-AHqIhcV"
      }
    },
    {
      "cell_type": "code",
      "source": [
        "#Please ask the user how many rounds they want to play\n",
        "\n",
        "\n",
        "#Scores of players\n",
        "print(\"Player1:\", player1_point)\n",
        "print(\"Player2:\", player2_point)"
      ],
      "metadata": {
        "id": "_kbrpXXkBU_d",
        "colab": {
          "base_uri": "https://localhost:8080/"
        },
        "outputId": "07237874-b2c4-418d-e99c-5c901b541922"
      },
      "execution_count": 7,
      "outputs": [
        {
          "output_type": "stream",
          "name": "stdout",
          "text": [
            "Player1: 2\n",
            "Player2: 0\n"
          ]
        }
      ]
    },
    {
      "cell_type": "markdown",
      "source": [
        "# Use a for loop to specify the number of rounds \n",
        "The user specified how many rounds he or she wants to play. \n",
        "\n",
        "One way to use this information is to put the game inside of a for loop.\n",
        "\n",
        "📌 You can use a for loop and the range() function to repeat the loop for a specified number of times.\n",
        "\n",
        "📌📌 Don't forget to convert the user input to the data type integer. You can use the int() function for this.\n",
        "\n",
        "📌📌📌 Don't forget to increment or add 1 to the score of the players that win, and print the current score after each round. You can use the assignment operator +=1 for this. "
      ],
      "metadata": {
        "id": "nzIGT6s_CWvP"
      }
    },
    {
      "cell_type": "code",
      "source": [
        "#Collect all the components of your program to run it in a for loop\n",
        "\n",
        "#Import the random library\n",
        "import random\n",
        "\n",
        "#Add the code to create a list containing the three actions of the game.\n",
        "\n",
        "actions = [\"rock\", \"paper\", \"scissors\"]\n",
        "\n",
        "#Add the code to set the scores of players to 0\n",
        "player_1_score = 0\n",
        "player_2_score = 0\n",
        "\n",
        "#Add the code to ask the user how many rounds they want to play\n",
        "rounds = int(input(\"How many rounds would you like to play? \"))\n",
        "\n",
        "\n",
        "#Write a for loop and put the game inside\n",
        "for i in range(rounds):\n",
        "\n",
        "  #Add the code to select a random action for each player\n",
        "    player_1 = random.choice(actions)\n",
        "    player_2 = random.choice(actions)\n",
        "\n",
        "  #Add the code to print the players choices\n",
        "    print(f\"Player 1 chose {player_1}\")\n",
        "    print(f\"Player 2 chose {player_2}\")\n",
        "\n",
        "  #Add the tie condition\n",
        "    if player_1 == player_2:\n",
        "        print(\"Tie!\")\n",
        "\n",
        "  #Add the remaining condition\n",
        "    # Check for rock \n",
        "    elif player_1 == \"rock\":\n",
        "        if player_2 == \"scissors\":\n",
        "            print(\"Player 1 wins!\")\n",
        "            player_1_score += 1\n",
        "        else:\n",
        "            print(\"Player 2 wins!\")\n",
        "            player_2_score += 1\n",
        "    # Check for paper\n",
        "    elif player_1 == \"paper\":\n",
        "        if player_2 == \"rock\":\n",
        "            print(\"Player 1 wins!\")\n",
        "            player_1_score += 1\n",
        "        else:\n",
        "            print(\"Player 2 wins!\")\n",
        "            player_2_score += 1\n",
        "    # Check for scissors\n",
        "    elif player_1 == \"scissors\":\n",
        "        if player_2 == \"paper\":\n",
        "            print(\"Player 1 wins!\")\n",
        "            player_1_score += 1\n",
        "        else:\n",
        "            print(\"Player 2 wins!\")\n",
        "            player_2_score += 1\n",
        "    else:\n",
        "        print(\"Invalid input, try again.\")\n",
        "    print(\"---\")\n",
        "\n",
        "  #print the score\n",
        "print(f\"Final score: Player 1: {player_1_score} - Player 2: {player_2_score}\")\n",
        "\n",
        "\n",
        "\n",
        "\n"
      ],
      "metadata": {
        "id": "Wy7CLLRNCV3X",
        "colab": {
          "base_uri": "https://localhost:8080/"
        },
        "outputId": "1887915b-09f3-4948-d598-b18ba6619c7a"
      },
      "execution_count": 8,
      "outputs": [
        {
          "output_type": "stream",
          "name": "stdout",
          "text": [
            "How many rounds would you like to play? 1\n",
            "Player 1 chose rock\n",
            "Player 2 chose paper\n",
            "Player 2 wins!\n",
            "---\n",
            "Final score: Player 1 0 - Player 2 1\n"
          ]
        }
      ]
    },
    {
      "cell_type": "markdown",
      "source": [
        "# Use a while loop to specify the number of rounds - Part 1\n",
        "\n",
        "In this module we also learned about while loops. Another way to play the game over and over again is using a while loop. \n",
        "\n",
        "This time, let's put the game inside a while loop.\n",
        "\n",
        "📌 You can directly use the value *True* to specify that the while loop should be executed. \n",
        "\n",
        "💣 By the way: Another very common name for True/False values is \"**Boolean values**\" or \"**Bools**\" in short.\n",
        "\n",
        "🧨🧨 Caution! Since we run the game in an while loop, you have to stop the game manually. Otherwise it will run infinitely.\n"
      ],
      "metadata": {
        "id": "QQIXQsmRwGqB"
      }
    },
    {
      "cell_type": "code",
      "source": [
        "#Collect all the components of your program to run it in a while loop\n",
        "#Import the random library\n",
        "import random\n",
        "\n",
        "#Add the code to create a list containing the three actions of the game.\n",
        "print(\"Rock, Paper, Scissors game!\")\n",
        "\n",
        "actions = [\"rock\", \"paper\", \"scissors\"]\n",
        "\n",
        "#Add the code to set the scores of players to 0\n",
        "score = [0, 0]\n",
        "\n",
        "#Write a while loop and put the game inside\n",
        "while True:\n",
        "    print(\"\\nRound\")\n",
        "    print(\"...rock...\")\n",
        "    print(\"...paper...\")\n",
        "    print(\"...scissors...\")\n",
        "\n",
        "    player = input(\"Player 1, make your move: \").lower()\n",
        "    if player not in actions:\n",
        "        print(\"Invalid input. Please try again\")\n",
        "        continue\n",
        "\n",
        "  #Add the code to select a random action for each player\n",
        "    computer = random.choice(actions)\n",
        "    print(\"Computer chooses \", computer)\n",
        "\n",
        "\n",
        "  #Add the remaining condition\n",
        "\n",
        "    if player == computer:\n",
        "        print(\"Tie!\")\n",
        "    elif player == \"rock\":\n",
        "        if computer == \"paper\":\n",
        "            print(\"Computer wins!\")\n",
        "            score[1] += 1\n",
        "        else:\n",
        "            print(\"Player 1 wins!\")\n",
        "            score[0] += 1\n",
        "    elif player == \"paper\":\n",
        "        if computer == \"scissors\":\n",
        "            print(\"Computer wins!\")\n",
        "            score[1] += 1\n",
        "        else:\n",
        "            print(\"Player 1 wins!\")\n",
        "            score[0] += 1\n",
        "    elif player == \"scissors\":\n",
        "        if computer == \"rock\":\n",
        "            print(\"Computer wins!\")\n",
        "            score[1] += 1\n",
        "        else:\n",
        "            print(\"Player 1 wins!\")\n",
        "            score[0] += 1\n",
        "  #print the score\n",
        "    again = input(\"Do you want to play another round? (yes/no)\").lower()\n",
        "    if again == \"no\":\n",
        "        break\n",
        "\n",
        "print(\"\\nFinal Score\")\n",
        "print(\"Player 1: \", score[0])\n",
        "print(\"Computer: \", score[1])\n",
        "\n",
        "if score[0] > score[1]:\n",
        "    print(\"Player 1 wins the game!\")\n",
        "elif score[0] < score[1]:\n",
        "    print(\"Computer wins the game!\")\n",
        "else:\n",
        "    print(\"It's a tie!\")\n"
      ],
      "metadata": {
        "id": "dvTr4HR4wF4n",
        "colab": {
          "base_uri": "https://localhost:8080/"
        },
        "outputId": "ad9a749f-2c05-4365-e06b-b826c9b61877"
      },
      "execution_count": null,
      "outputs": [
        {
          "output_type": "stream",
          "name": "stdout",
          "text": [
            "Rock, Paper, Scissors game!\n",
            "\n",
            "Round\n",
            "...rock...\n",
            "...paper...\n",
            "...scissors...\n",
            "Player 1, make your move: rock\n",
            "Computer chooses  paper\n",
            "Computer wins!\n"
          ]
        }
      ]
    },
    {
      "cell_type": "markdown",
      "source": [
        "# Use a while loop to specify the number of rounds - Part 2\n",
        "\n",
        "Now the game runs infinitely and the user can end it manually. But there is a more efficient way to do this: Let's ask the user again how many rounds they want to play, just as you did for the game inside the for loop.\n",
        "\n",
        "To prevent an infinite loop, you need to add a round_counter that is 0 at the beginning. In each round, this counter needs to increase by 1. \n",
        "\n",
        "At the end of your while loop, you need to add an \"if\" condition to check whether the round_counter is equal to the number of rounds that we got from user as an input. If this is the case, we need to use \"**break**\" to end the game.\n",
        "\n",
        "Once we end the game, it would be nice to see a message that prints the winner to the screen. In case of a tie, it should print a message that the game ended in a tie.\n",
        "\n",
        "📌 You can use \"if\" and \"elif\" statements to determine the winner at the end."
      ],
      "metadata": {
        "id": "YKVAuxIsjaE6"
      }
    },
    {
      "cell_type": "code",
      "source": [
        "import random\n",
        "\n",
        "# Welcome message\n",
        "print(\"Rock, Paper, Scissors game!\")\n",
        "\n",
        "# List of actions (rock, paper, scissors)\n",
        "actions = [\"rock\", \"paper\", \"scissors\"]\n",
        "\n",
        "# Player scores\n",
        "score = [0, 0]\n",
        "\n",
        "# Ask the user for number of rounds\n",
        "rounds = int(input(\"How many rounds do you want to play? \"))\n",
        "\n",
        "# Counter for number of rounds played\n",
        "round_counter = 0\n",
        "\n",
        "# Start the game\n",
        "while round_counter < rounds:\n",
        "    print(\"\\nRound \", round_counter + 1)\n",
        "    print(\"...rock...\")\n",
        "    print(\"...paper...\")\n",
        "    print(\"...scissors...\")\n",
        "\n",
        "    # Player 1's turn\n",
        "    player = input(\"Player 1, make your move: \").lower()\n",
        "\n",
        "    # Check if player's input is valid\n",
        "    if player not in actions:\n",
        "        print(\"Invalid input. Please try again\")\n",
        "        continue\n",
        "\n",
        "    # Computer's turn\n",
        "    computer = random.choice(actions)\n",
        "    print(\"Computer chooses \", computer)\n",
        "\n",
        "    # Check for tie\n",
        "    if player == computer:\n",
        "        print(\"Tie!\")\n",
        "\n",
        "    # Check for rock\n",
        "    elif player == \"rock\":\n",
        "        if computer == \"paper\":\n",
        "            print(\"Computer wins!\")\n",
        "            score[1] += 1\n",
        "        else:\n",
        "            print(\"Player 1 wins!\")\n",
        "            score[0] += 1\n",
        "\n",
        "    # Check for paper\n",
        "    elif player == \"paper\":\n",
        "        if computer == \"scissors\":\n",
        "            print(\"Computer wins!\")\n",
        "            score[1] += 1\n",
        "        else:\n",
        "            print(\"Player 1 wins!\")\n",
        "            score[0] += 1\n",
        "\n",
        "    # Check for scissors\n",
        "    elif player == \"scissors\":\n",
        "        if computer == \"rock\":\n",
        "            print(\"Computer wins!\")\n",
        "            score[1] += 1\n",
        "        else:\n",
        "            print(\"Player 1 wins!\")\n",
        "            score[0] += 1\n",
        "\n",
        "    # Increase round counter\n",
        "    round_counter += 1\n",
        "\n",
        "# Final score\n",
        "print(\"\\nFinal Score\")\n",
        "print(\"Player 1: \", score[0])\n",
        "print(\"Computer: \", score[1])\n",
        "\n",
        "# Determine the winner\n",
        "if score[0] > score[1]:\n",
        "    print(\"Player 1 wins the game!\")\n",
        "elif score[0] < score[1]:\n",
        "    print(\"Computer wins the game!\")\n",
        "else:\n",
        "    print(\"It's a tie!\")\n"
      ],
      "metadata": {
        "id": "emrjgYoXjYCR"
      },
      "execution_count": null,
      "outputs": []
    }
  ]
}