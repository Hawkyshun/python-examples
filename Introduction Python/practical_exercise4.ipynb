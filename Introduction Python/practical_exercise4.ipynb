{
  "nbformat": 4,
  "nbformat_minor": 0,
  "metadata": {
    "colab": {
      "provenance": [],
      "include_colab_link": true
    },
    "kernelspec": {
      "name": "python3",
      "display_name": "Python 3"
    },
    "language_info": {
      "name": "python"
    }
  },
  "cells": [
    {
      "cell_type": "markdown",
      "metadata": {
        "id": "view-in-github",
        "colab_type": "text"
      },
      "source": [
        "<a href=\"https://colab.research.google.com/github/Hawkyshun/python-examples/blob/master/practical_exercise4.ipynb\" target=\"_parent\"><img src=\"https://colab.research.google.com/assets/colab-badge.svg\" alt=\"Open In Colab\"/></a>"
      ]
    },
    {
      "cell_type": "markdown",
      "source": [
        "# Practical exercise 4: Your own supermarket\n",
        "\n",
        "In this practical exercise, you are the owner of a supermarket.\n",
        "\n",
        "🛒 You will program an online shop to sell different types of items. \n",
        "\n",
        "Please read the instructions carefully. There are hints and important explanations that will help you with this exercise."
      ],
      "metadata": {
        "id": "tBDsFMQwBs6Z"
      }
    },
    {
      "cell_type": "markdown",
      "source": [
        "##Warm up\n",
        "\n",
        "Before we actually start, let's get a little more familiar with the data structures that will be useful in this exercise: lists, tuples and dictionaries. \n",
        "\n",
        "###(1) Lists\n",
        "\n",
        "First, create a shopping list with items that you want to purchase from your online shop later. You need to buy: milk, apples, oranges, potatoes and bread."
      ],
      "metadata": {
        "id": "ymULFKyosM3d"
      }
    },
    {
      "cell_type": "code",
      "source": [
        "#Please create a shopping list\n",
        "shopping = ['milk', 'apples', 'oranges', 'potatoes', 'bread']\n",
        "\n",
        "print(\"Shopping List:\", shopping)\n"
      ],
      "metadata": {
        "id": "0w6HGZBvsvru",
        "colab": {
          "base_uri": "https://localhost:8080/"
        },
        "outputId": "873154ea-f1ed-44d8-b976-3fd2d3208a34"
      },
      "execution_count": 62,
      "outputs": [
        {
          "output_type": "stream",
          "name": "stdout",
          "text": [
            "Shopping List: ['milk', 'apples', 'oranges', 'potatoes', 'bread']\n"
          ]
        }
      ]
    },
    {
      "cell_type": "markdown",
      "source": [
        "You also want to buy bananas and onions, so you add those to your list.\n",
        "\n",
        "Remember, there are two different ways to add an item to a list. \n",
        "\n",
        "📌 You can use the .append() method to add bananas to your list.\n",
        "\n",
        "📌📌 You can use the .insert() method to add onions to your list. With this method you will also have to specify the position at which you want the item to be added.\n",
        "\n",
        "💣 Make sure to print your shopping list afterwards to check if the items were added."
      ],
      "metadata": {
        "id": "K0TMLWsQbfPE"
      }
    },
    {
      "cell_type": "code",
      "source": [
        "#Use the append method to add bananas to your list\n",
        "shopping.append('bananas')\n",
        "\n",
        "#Print your shopping list\n",
        "print(\"Shopping List:\", shopping)\n",
        "\n",
        "#Use insert method to add onions at a specific position in your list\n",
        "shopping.insert(0, 'onions')\n",
        "\n",
        "#Print your shopping list\n",
        "print(\"Shopping List:\", shopping)"
      ],
      "metadata": {
        "id": "YC3QlYU6NIrC",
        "colab": {
          "base_uri": "https://localhost:8080/"
        },
        "outputId": "e01b4222-6671-41c2-e94a-df50cf03c3f5"
      },
      "execution_count": 63,
      "outputs": [
        {
          "output_type": "stream",
          "name": "stdout",
          "text": [
            "Shopping List: ['milk', 'apples', 'oranges', 'potatoes', 'bread', 'bananas']\n",
            "Shopping List: ['onions', 'milk', 'apples', 'oranges', 'potatoes', 'bread', 'bananas']\n"
          ]
        }
      ]
    },
    {
      "cell_type": "markdown",
      "source": [
        "Your roommate checks the shopping list and says that you already bought patatoes yesterday, so you decide to remove them from your list.\n",
        "\n",
        "📌 You can use the .remove() method to remove an item from your list."
      ],
      "metadata": {
        "id": "GVov48ohf4XA"
      }
    },
    {
      "cell_type": "code",
      "source": [
        "#Use the remove method to remove potatoes from the list\n",
        "shopping.remove('potatoes')\n",
        "#Print your shopping list\n",
        "print(\"Shopping List:\", shopping)"
      ],
      "metadata": {
        "id": "uH7PHLQpPFNC",
        "colab": {
          "base_uri": "https://localhost:8080/"
        },
        "outputId": "3f38a183-3178-4515-9368-0786ac9e80d5"
      },
      "execution_count": 64,
      "outputs": [
        {
          "output_type": "stream",
          "name": "stdout",
          "text": [
            "Shopping List: ['onions', 'milk', 'apples', 'oranges', 'bread', 'bananas']\n"
          ]
        }
      ]
    },
    {
      "cell_type": "markdown",
      "source": [
        "###(2) Tuples\n",
        "As a next step, lets make your list more informative, by adding the respective section in the store where you can find each item.\n",
        "\n",
        "You can do this by using tuples, which contain the name of the item and the respective section. For example \"fruits\", \"dairy\", \"bakery\".\n",
        "\n",
        "📌 Tuples are similar to lists, but you create them with round brackets, or parentheses ( ), instead of square ones [ ].\n",
        "\n",
        "Your list should follow this structure:\n",
        "```\n",
        "shopping_list = [('item1', 'section1'), ('item2', 'section2')]\n",
        "```\n",
        "\n"
      ],
      "metadata": {
        "id": "U7oyLFUNeFvL"
      }
    },
    {
      "cell_type": "code",
      "source": [
        "#Expand your list by adding tuples for each item\n",
        "shopping_list = [('milk', 'dairy'), ('apples', 'fruits'), ('oranges', 'fruits'), ('potatoes', 'vegetables'), ('bread', 'bakery')]\n",
        "\n",
        "print(\"Shopping List:\", shopping_list)\n"
      ],
      "metadata": {
        "id": "m8SiT9xofIXR",
        "colab": {
          "base_uri": "https://localhost:8080/"
        },
        "outputId": "f3160cac-d154-4a1e-ad0a-373e41c9ff72"
      },
      "execution_count": 65,
      "outputs": [
        {
          "output_type": "stream",
          "name": "stdout",
          "text": [
            "Shopping List: [('milk', 'dairy'), ('apples', 'fruits'), ('oranges', 'fruits'), ('potatoes', 'vegetables'), ('bread', 'bakery')]\n"
          ]
        }
      ]
    },
    {
      "cell_type": "markdown",
      "source": [
        "Next, you want to use this list to print out where each item is available. \n",
        "\n",
        "The message could be as follows: \n",
        "\"You can find the [item] in the [section] section\"\n",
        "\n",
        "\n",
        "📌 You can use the for loop to pick each tuple at a time and unpack it inside the loop. \n",
        "\n",
        "📌📌 Finally, you can include the item and section variable in the print function.\n"
      ],
      "metadata": {
        "id": "eyQLiQ0-ftZF"
      }
    },
    {
      "cell_type": "code",
      "source": [
        "#Use for loop to iterate over list and get each tuple for unpacking\n",
        "for item, section in shopping_list:\n",
        "\n",
        "  #unpack the tuple into item and section variables \n",
        "\n",
        "  #print the message\n",
        "    print(f\"You cand find the {item} in the {section} section.\")"
      ],
      "metadata": {
        "id": "t84kgxJIg7EZ",
        "colab": {
          "base_uri": "https://localhost:8080/"
        },
        "outputId": "74e6e98a-8ebe-4876-90ac-7256efe03aac"
      },
      "execution_count": 66,
      "outputs": [
        {
          "output_type": "stream",
          "name": "stdout",
          "text": [
            "You cand find the milk in the dairy section.\n",
            "You cand find the apples in the fruits section.\n",
            "You cand find the oranges in the fruits section.\n",
            "You cand find the potatoes in the vegetables section.\n",
            "You cand find the bread in the bakery section.\n"
          ]
        }
      ]
    },
    {
      "cell_type": "markdown",
      "source": [
        "###(3) Dictionaries\n",
        "\n",
        "Another way to assign a section to each item is with dictionaries. Instead of a list containing multiple tuples, let's create a dictionary which contains the item as a key and the section as a value.\n",
        "\n",
        "📌 Dictionaries are created with curly braces { } and each item in a dictionary consists of key/value pairs.\n",
        "\n",
        "Your dictionary should follow this structure:\n",
        "```\n",
        "shopping_list = {'item1':'section1', 'item2':'section2'}\n",
        "```\n",
        "\n"
      ],
      "metadata": {
        "id": "ZFuZo1ShhYTy"
      }
    },
    {
      "cell_type": "code",
      "source": [
        "#Create a dictionary which contains the item as key and the section as value\n",
        "shopping_list_dict = {'milk': 'dairy', 'apples': 'fruits', 'oranges': 'fruits', 'potatoes': 'vegetables', 'bread': 'bakery'}\n",
        "\n",
        "print(\"Shopping List:\", shopping_list_dict)\n"
      ],
      "metadata": {
        "id": "_u68Uawrn0a0",
        "colab": {
          "base_uri": "https://localhost:8080/"
        },
        "outputId": "5a9fd1db-32f3-49d6-ba83-40a822e0363a"
      },
      "execution_count": 67,
      "outputs": [
        {
          "output_type": "stream",
          "name": "stdout",
          "text": [
            "Shopping List: {'milk': 'dairy', 'apples': 'fruits', 'oranges': 'fruits', 'potatoes': 'vegetables', 'bread': 'bakery'}\n"
          ]
        }
      ]
    },
    {
      "cell_type": "markdown",
      "source": [
        "We have learned different methods to access the items in a dictionary.\n",
        "\n",
        "Let's use them first to print only the keys, then only the values and finally the key/value pairs as a list of tuples.\n",
        "\n",
        "📌 You can use .keys() method to access the keys.\n",
        "\n",
        "📌 You can use the .values() method to access the values.\n",
        "\n",
        "📌 You can use the .items() method to access the key/value pairs.\n"
      ],
      "metadata": {
        "id": "PCHcI3wooUuk"
      }
    },
    {
      "cell_type": "code",
      "source": [
        "#Print the keys\n",
        "print(\"Keys:\", shopping_list_dict.keys())\n",
        "\n",
        "#Print the values\n",
        "print(\"Values:\", shopping_list_dict.values())\n",
        "\n",
        "#Print the key/value pairs\n",
        "print(\"Key-Value Pairs:\", shopping_list_dict.items())\n"
      ],
      "metadata": {
        "id": "ujwOVRsPotS2",
        "colab": {
          "base_uri": "https://localhost:8080/"
        },
        "outputId": "c0044c2d-034d-4a6d-feb2-4989c8a721a0"
      },
      "execution_count": 68,
      "outputs": [
        {
          "output_type": "stream",
          "name": "stdout",
          "text": [
            "Keys: dict_keys(['milk', 'apples', 'oranges', 'potatoes', 'bread'])\n",
            "Values: dict_values(['dairy', 'fruits', 'fruits', 'vegetables', 'bakery'])\n",
            "Key-Value Pairs: dict_items([('milk', 'dairy'), ('apples', 'fruits'), ('oranges', 'fruits'), ('potatoes', 'vegetables'), ('bread', 'bakery')])\n"
          ]
        }
      ]
    },
    {
      "cell_type": "markdown",
      "source": [
        "# Set up the online shop\n",
        "\n",
        "So, now that you have a gained some experience, let's start with our main exercise!\n",
        "\n",
        "Of course, you first need to add all the items that will be available in your online shop. \n",
        "\n",
        "📌Create a dictionary for your inventory. For each item the key should be the name and the value should be a list containing price, stock, and section.\n",
        "\n",
        "📌📌 Your dictionary should follow this structure: \n",
        "```\n",
        "inventory = {'item1':[price, stock quantity,'section'], 'item2':[price, stock quantity,'section']}\n",
        "```\n",
        "💣 You can also write each item of the dictionary in its own line to make it more user-friendly:\n",
        "\n",
        "```\n",
        "inventory = {'item1':[price, stock quantity,'section'], \n",
        "             'item2':[price, stock quantity,'section']}\n",
        "```"
      ],
      "metadata": {
        "id": "cnWVzlo1vBy8"
      }
    },
    {
      "cell_type": "code",
      "source": [
        "#Create a dictionary for your inventory\n",
        "inventory = {'milk': [2.50, 20, 'dairy'], \n",
        "            'apples': [0.99, 50, 'fruits'], \n",
        "            'oranges': [0.75, 30, 'fruits'], \n",
        "            'potatoes': [0.50, 40, 'vegetables'], \n",
        "            'bread': [2.00, 10, 'bakery']}\n",
        "\n",
        "print(\"Inventory:\", inventory)\n"
      ],
      "metadata": {
        "id": "9N1XvG5lPZYb",
        "colab": {
          "base_uri": "https://localhost:8080/"
        },
        "outputId": "afda1815-180a-4d2c-bd5f-d6f337e70aa4"
      },
      "execution_count": 69,
      "outputs": [
        {
          "output_type": "stream",
          "name": "stdout",
          "text": [
            "Inventory: {'milk': [2.5, 20, 'dairy'], 'apples': [0.99, 50, 'fruits'], 'oranges': [0.75, 30, 'fruits'], 'potatoes': [0.5, 40, 'vegetables'], 'bread': [2.0, 10, 'bakery']}\n"
          ]
        }
      ]
    },
    {
      "cell_type": "markdown",
      "source": [
        "# Your first client is here\n",
        "\n",
        "Now that your inverntory is set up, your first client visits the shop. Let's take a peak in their shopping list.\n",
        "\n",
        "📌 As we did in the warm up, let's create a shopping list for your first client with tuples for each item. This time, each tuple should consist of the item and the amount that they want to purchase.\n",
        "\n",
        "The list should follow this structure:\n",
        "\n",
        "```\n",
        "shopping_list = [('item1', amount),('item2', amount)]\n",
        "```\n",
        "\n"
      ],
      "metadata": {
        "id": "AU7K16IxSsTh"
      }
    },
    {
      "cell_type": "code",
      "source": [
        "#Create a shopping list that specifies how much of each item you want to purchase\n",
        "shopping_list = [('milk', 2),('apples', 4),('oranges', 3),('potatoes', 5),('bread', 1)]\n",
        "\n",
        "print(\"Shopping List:\", shopping_list)\n"
      ],
      "metadata": {
        "id": "ZfsnRwT5Ux4O",
        "colab": {
          "base_uri": "https://localhost:8080/"
        },
        "outputId": "fecbf611-6ee0-4a8a-8e2e-87f64fa69b3f"
      },
      "execution_count": 70,
      "outputs": [
        {
          "output_type": "stream",
          "name": "stdout",
          "text": [
            "Shopping List: [('milk', 2), ('apples', 4), ('oranges', 3), ('potatoes', 5), ('bread', 1)]\n"
          ]
        }
      ]
    },
    {
      "cell_type": "markdown",
      "source": [
        "# What happens next? \n",
        "\n",
        "Everytime a customer wants to purchase something from your online shop, a few steps have to be taken. Here are the functions that will make your online shop work.\n",
        "\n",
        "##(1) Check the stock\n",
        "First, you have to make sure that you have sufficient stock of each item in your inventory. \n",
        "\n",
        "1. check_stock \n",
        "\n",
        "Define a function to check the stock quantity of the items in your shopping list. The function should take your shopping list and inventory as an argument. If there is not enough stock, the amount in your shopping list should be updated to the highest amount possible.\n",
        "\n",
        "\n",
        "💣 To start, create an empty shopping list, in which the items and their updated amounts will be written in as tuples. Remember that we cannot update them because tuples are immutable.\n",
        "\n",
        "📌 You can use a for loop to iterate over each item inside the shopping list.\n",
        "\n",
        "📌 You can then unpack the tuples to access each item and amount separately.\n",
        "\n",
        "📌 To access the available stock in your inventory dictionary, use the item as a key, then the corresponding index in the values list and check if there is enough stock. \n",
        "\n",
        "📌 The print function can help you to inform the client which items are out of stock and what the available amount is.\n",
        "\n",
        "📌 Update the amount if necessary and append the item and amount to your updated shopping list."
      ],
      "metadata": {
        "id": "7pPSFAdBUqHm"
      }
    },
    {
      "cell_type": "code",
      "source": [
        "#Define the check_stock function\n",
        "def check_stock(shopping_list, inventory):\n",
        "  #Create the empty shopping_list_updated\n",
        "  shopping_list_updated = []\n",
        "  #Write a for loop to iterate over each item in your shopping list\n",
        "  for item, amount in shopping_list:\n",
        "    #Access the available stock in your inventory\n",
        "    #append item and amount to your updated shopping list\n",
        "    if item in inventory and inventory[item][1] >= amount:\n",
        "      shopping_list_updated.append((item, amount))\n",
        "    else:\n",
        "      if item in inventory:\n",
        "        print(f\"Item: {item} is out of stock. Available amount: {inventory[item]}\")\n",
        "        shopping_list_updated.append((item, inventory[item]))\n",
        "      else:\n",
        "        print(f\"Item: {item} is not available in our inventory\")\n",
        "  return shopping_list_updated\n"
      ],
      "metadata": {
        "id": "fHnIa5_o1em8"
      },
      "execution_count": 71,
      "outputs": []
    },
    {
      "cell_type": "markdown",
      "source": [
        "2. compute_bill\n",
        "\n",
        "Next, we need to define a function to compute the bill and the price that has to be payed in the checkout. The function should take your **updated** shopping list and inventory as an argument.\n",
        "\n",
        "💣 In the beginning of the function, you need to create a bill variable and assign 0 to it.\n",
        "\n",
        "📌 You can use a for loop to iterate over each item inside the updated shopping list.\n",
        "\n",
        "📌 You can then unpack the tuples to access each item and amount separately.\n",
        "\n",
        "📌 To access the price in your inventory dictionary use the item as a key, then the corresponding index in the values list.\n",
        "\n",
        "📌 Compute the price for the amount inside your client's updated shopping list and add it to your bill variable. \n"
      ],
      "metadata": {
        "id": "FeUryrwN-Cy_"
      }
    },
    {
      "cell_type": "code",
      "source": [
        "#Define the compute_bill function\n",
        "def compute_bill(shopping_list, inventory):\n",
        "  #Create a bill variable that equals 0\n",
        "    bill = 0.0\n",
        "  #Write a for loop to iterate over each item in your updated shopping list\n",
        "    for item, amount in shopping_list:\n",
        "    #access the price in your inventory\n",
        "        price = inventory[item][0]\n",
        "    #Compute the price and add it to the bill\n",
        "        bill += price * amount\n",
        "        print(price)\n",
        "    return bill\n"
      ],
      "metadata": {
        "id": "PfYhT-_skm6H"
      },
      "execution_count": 72,
      "outputs": []
    },
    {
      "cell_type": "markdown",
      "source": [
        "3. update_stock\n",
        "\n",
        "Your last function should update your store inventory after items were purchased. The function should take your **updated** shopping list and inventory as an argument.\n",
        "\n",
        "📌 You can use a for loop to iterate over each item inside the updated shopping list.\n",
        "\n",
        "📌 You can then unpack the tuples to access each item and amount separately.\n",
        "\n",
        "📌 To access the stock in your inventory dictionary use the item as a key, then the corresponding index in the values list.\n",
        "\n",
        "📌 Decrease the stock in your inventory by the amount that was purchased. \n"
      ],
      "metadata": {
        "id": "rY4TwQ-M-eBl"
      }
    },
    {
      "cell_type": "code",
      "source": [
        "#Define the update_stock function \n",
        "def update_stock(shopping_list, inventory):\n",
        "  #Write a for loop to iterate over each item in your updated shopping list\n",
        "    for item, amount in shopping_list:\n",
        "    #access the stock in your inventory\n",
        "      stock = inventory[item][1]\n",
        "    #Decrease the stock by the amount that was purchased\n",
        "      inventory[item][1] = stock - amount\n",
        "    return inventory\n"
      ],
      "metadata": {
        "id": "Vm6X-Crvr4lp"
      },
      "execution_count": 73,
      "outputs": []
    },
    {
      "cell_type": "markdown",
      "source": [
        "# Time to test if everything is working!\n",
        "\n"
      ],
      "metadata": {
        "id": "xlh49KnZyl0L"
      }
    },
    {
      "cell_type": "markdown",
      "source": [
        "Now that you have your functions set up, you are ready to fulfil your client's shopping list.\n",
        "\n",
        "1. Call the check_stock function\n",
        "\n",
        "💣 The first thing that you need to do is to check whether there is enough stock available in your online shop. \n",
        "\n",
        "📌 Use the check_stock function to check if there is enough stock and if not, to update your shopping list accordingly.\n",
        "\n",
        "📌 Next, print the following statement:\n",
        "\n",
        "\"Your updated shopping list is: [shopping_list]\""
      ],
      "metadata": {
        "id": "22SoF5NyGWeQ"
      }
    },
    {
      "cell_type": "code",
      "source": [
        "#Call check_stock function for your shopping list\n",
        "updated_shopping_list = check_stock(shopping_list, inventory)\n",
        "\n",
        "print(\"Your updated shopping list is:\", updated_shopping_list)\n"
      ],
      "metadata": {
        "id": "bdlEyJC2xPOw",
        "colab": {
          "base_uri": "https://localhost:8080/"
        },
        "outputId": "4a68f0e8-3bda-4361-9c49-ed2f5fc2106d"
      },
      "execution_count": 74,
      "outputs": [
        {
          "output_type": "stream",
          "name": "stdout",
          "text": [
            "Your updated shopping list is: [('milk', 2), ('apples', 4), ('oranges', 3), ('potatoes', 5), ('bread', 1)]\n"
          ]
        }
      ]
    },
    {
      "cell_type": "markdown",
      "source": [
        "2.  Call the compute_bill function\n",
        "\n",
        "Now you are sure that all items in your list are available, you need to compute how much you have to pay.\n",
        "\n",
        "📌 Use the compute_bill function to find out how much you have to pay.\n",
        "\n",
        "💣 Make sure that you give the **updated** shopping list as an argument!\n",
        "\n",
        "📌 Next, print the following statement:\n",
        "\"Total price: [bill] $\""
      ],
      "metadata": {
        "id": "oRiKfikSMQ0s"
      }
    },
    {
      "cell_type": "code",
      "source": [
        "#Call the compute_bill function for your updated shopping list\n",
        "bill = compute_bill(updated_shopping_list, inventory)\n",
        "\n",
        "print(\"Total price:\", bill, \"$\")\n"
      ],
      "metadata": {
        "id": "ynk3rKhOMyP1",
        "colab": {
          "base_uri": "https://localhost:8080/"
        },
        "outputId": "30b42fb4-6345-4f8b-9504-76fc3a203034"
      },
      "execution_count": 75,
      "outputs": [
        {
          "output_type": "stream",
          "name": "stdout",
          "text": [
            "2.5\n",
            "0.99\n",
            "0.75\n",
            "0.5\n",
            "2.0\n",
            "Total price: 15.71 $\n"
          ]
        }
      ]
    },
    {
      "cell_type": "markdown",
      "source": [
        "3.   Call the update_stock function\n",
        "\n",
        "Lastly, you have to make sure that your inventory gets updated after the purchase. \n",
        "\n",
        "📌 Use the update_stock function to update the inventory stock.\n",
        "\n",
        "💣 Make sure that you give the **updated** shopping list as an argument!\n",
        "\n",
        "📌 Next, print the following statement:\n",
        "\"The inventory has been updated: [inventory]\""
      ],
      "metadata": {
        "id": "eUORhgOvM1BK"
      }
    },
    {
      "cell_type": "code",
      "source": [
        "#Call the update_stock function for your updated shopping list\n",
        "update_stock(updated_shopping_list, inventory)\n",
        "\n",
        "print(\"The inventory has been updated:\", inventory)"
      ],
      "metadata": {
        "id": "8hyBJ49qNNFM",
        "colab": {
          "base_uri": "https://localhost:8080/"
        },
        "outputId": "4903c316-38cc-49ba-f40d-c97754bd77af"
      },
      "execution_count": 77,
      "outputs": [
        {
          "output_type": "stream",
          "name": "stdout",
          "text": [
            "The inventory has been updated: {'milk': [2.5, 18, 'dairy'], 'apples': [0.99, 46, 'fruits'], 'oranges': [0.75, 27, 'fruits'], 'potatoes': [0.5, 35, 'vegetables'], 'bread': [2.0, 9, 'bakery']}\n"
          ]
        }
      ]
    }
  ]
}