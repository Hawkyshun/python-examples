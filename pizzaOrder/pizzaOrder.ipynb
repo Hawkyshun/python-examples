{
  "nbformat": 4,
  "nbformat_minor": 0,
  "metadata": {
    "colab": {
      "provenance": [],
      "authorship_tag": "ABX9TyNMVDlSrrxvoXMAeeSJ12yn",
      "include_colab_link": true
    },
    "kernelspec": {
      "name": "python3",
      "display_name": "Python 3"
    },
    "language_info": {
      "name": "python"
    }
  },
  "cells": [
    {
      "cell_type": "markdown",
      "metadata": {
        "id": "view-in-github",
        "colab_type": "text"
      },
      "source": [
        "<a href=\"https://colab.research.google.com/github/Hawkyshun/python-examples/blob/master/pizzaOrder.ipynb\" target=\"_parent\"><img src=\"https://colab.research.google.com/assets/colab-badge.svg\" alt=\"Open In Colab\"/></a>"
      ]
    },
    {
      "cell_type": "code",
      "execution_count": 1,
      "metadata": {
        "id": "uJDuzP482XfM"
      },
      "outputs": [],
      "source": [
        "import csv\n",
        "from datetime import datetime\n"
      ]
    },
    {
      "cell_type": "code",
      "source": [
        "# Menu.txt dosyasını oluşturma\n",
        "with open('Menu.txt', 'w') as file:\n",
        "    file.write(\"* Lütfen Bir Pizza Tabanı Seçiniz:\\n\"\n",
        "               \"1: Klasik\\n\"\n",
        "               \"2: Margarita\\n\"\n",
        "               \"3: TürkPizza\\n\"\n",
        "               \"4: Sade Pizza\\n\"\n",
        "               \"* ve seçeceğiniz sos:\\n\"\n",
        "               \"11: Zeytin\\n\"\n",
        "               \"12: Mantarlar\\n\"\n",
        "               \"13: Keçi Peyniri\\n\"\n",
        "               \"14: Et\\n\"\n",
        "               \"15: Soğan\\n\"\n",
        "               \"16: Mısır\\n\"\n",
        "               \"* Teşekkür ederiz!\")\n",
        "    "
      ],
      "metadata": {
        "id": "t71QBwN02f52"
      },
      "execution_count": 2,
      "outputs": []
    },
    {
      "cell_type": "code",
      "source": [
        "# Pizza sınıfı oluşturma\n",
        "class Pizza:\n",
        "    def __init__(self):\n",
        "        self.description = \"Pizza\"\n",
        "        self.cost = 0.0\n",
        "\n",
        "    def get_description(self):\n",
        "        return self.description\n",
        "\n",
        "    def get_cost(self):\n",
        "        return self.cost\n"
      ],
      "metadata": {
        "id": "UVpYmfem2onp"
      },
      "execution_count": 3,
      "outputs": []
    },
    {
      "cell_type": "code",
      "source": [
        "# Alt sınıf olarak pizza çeşitlerini oluşturma\n",
        "class Klasik(Pizza):\n",
        "    def __init__(self):\n",
        "        super().__init__()\n",
        "        self._description = \"Klasik pizza\"\n",
        "        self._cost = 10.0\n",
        "    \n",
        "    def get_cost(self):\n",
        "        return self._cost\n",
        "    \n",
        "\n",
        "class Margarita(Pizza):\n",
        "    def __init__(self):\n",
        "        super().__init__()\n",
        "        self._description = \"Margarita pizza\"\n",
        "        self._cost = 12.0\n",
        "    \n",
        "    def get_cost(self):\n",
        "        return self._cost\n",
        "    \n",
        "\n",
        "class TurkPizza(Pizza):\n",
        "    def __init__(self):\n",
        "        super().__init__()\n",
        "        self._description = \"Türk pizzası\"\n",
        "        self._cost = 15.0\n",
        "    \n",
        "    def get_cost(self):\n",
        "        return self._cost\n",
        "    \n",
        "\n",
        "class SadePizza(Pizza):\n",
        "    def __init__(self):\n",
        "        super().__init__()\n",
        "        self._description = \"Sade pizza\"\n",
        "        self._cost = 8.0\n",
        "    \n",
        "    def get_cost(self):\n",
        "        return self._cost\n"
      ],
      "metadata": {
        "id": "3lYosCnD2tnb"
      },
      "execution_count": 4,
      "outputs": []
    },
    {
      "cell_type": "code",
      "source": [
        "\n",
        "# Decorator süper üst sınıfı oluşturma\n",
        "class Decorator(Pizza):\n",
        "    def __init__(self, component):\n",
        "        super().__init__()\n",
        "        self.component = component\n",
        "    \n",
        "    def get_cost(self):\n",
        "        return self.component.get_cost() + Pizza.get_cost(self)\n",
        "    \n",
        "    def get_description(self):\n",
        "        return self.component.get_description() + ', ' + super().get_description()\n",
        "\n",
        "\n"
      ],
      "metadata": {
        "id": "kZ3_sSHZ2xpE"
      },
      "execution_count": 5,
      "outputs": []
    },
    {
      "cell_type": "code",
      "source": [
        "#Pizza soslarını oluşturma\n",
        "class Zeytin(Decorator):\n",
        "    def __init__(self, pizza):\n",
        "        super().__init__(pizza)\n",
        "        self._description = \"Zeytin\"\n",
        "        self._cost = 1.5\n",
        "\n",
        "class Mantar(Decorator):\n",
        "    def __init__(self, pizza):\n",
        "        super().__init__(pizza)\n",
        "        self._description = \"Mantarlar\"\n",
        "        self._cost = 2.0\n",
        "\n",
        "class KeciPeyniri(Decorator):\n",
        "    def __init__(self, pizza):  \n",
        "        super().__init__(pizza)\n",
        "        self._description = \"Keçi peyniri\"\n",
        "        self._cost = 3.0\n",
        "\n",
        "class Et(Decorator):\n",
        "    def __init__(self, pizza):\n",
        "        super().__init__(pizza)\n",
        "        self._description = \"Et\"\n",
        "        self._cost = 4.0\n",
        "\n",
        "class Sogan(Decorator):\n",
        "    def __init__(self, pizza):\n",
        "        super().__init__(pizza)\n",
        "        self._description = \"Soğan\"\n",
        "        self._cost = 1.0\n",
        "\n",
        "class Misir(Decorator):\n",
        "    def __init__(self, pizza):\n",
        "        super().__init__(pizza)\n",
        "        self._description = \"Mısır\"\n",
        "        self._cost = 1.0\n"
      ],
      "metadata": {
        "id": "oslKE_CK4jcF"
      },
      "execution_count": 6,
      "outputs": []
    },
    {
      "cell_type": "code",
      "source": [
        "def main():\n",
        "    # Menüyü ekrana yazdırma\n",
        "    with open('Menu.txt', 'r') as file:\n",
        "        menu = file.read()\n",
        "        print(menu)\n",
        "\n",
        "    # Pizza seçimini isteme\n",
        "    pizza_choice = input(\"Lütfen bir pizza seçin (1-4): \")\n",
        "    while pizza_choice not in ['1', '2', '3', '4']:\n",
        "        pizza_choice = input(\"Geçersiz seçim. Lütfen bir pizza seçin (1-4): \")\n",
        "\n",
        "    # Seçilen pizza türüne göre nesne oluşturma\n",
        "    if pizza_choice == '1':\n",
        "        pizza = Klasik()\n",
        "    elif pizza_choice == '2':\n",
        "        pizza = Margarita()\n",
        "    elif pizza_choice == '3':\n",
        "        pizza = TurkPizza()\n",
        "    else:\n",
        "        pizza = SadePizza()\n",
        "\n",
        "    # Sos seçimini isteme\n",
        "    sos_choice = input(\"Lütfen bir sos seçin (11-16): \")\n",
        "    while sos_choice not in ['11', '12', '13', '14', '15', '16']:\n",
        "        sos_choice = input(\"Geçersiz seçim. Lütfen bir sos seçin (11-16): \")\n",
        "\n",
        "    # Seçilen sos türüne göre nesne oluşturma\n",
        "    if sos_choice == '11':\n",
        "        pizza = Zeytin(pizza)\n",
        "    elif sos_choice == '12':\n",
        "        pizza = Mantar(pizza)\n",
        "    elif sos_choice == '13':\n",
        "        pizza = KeciPeyniri(pizza)\n",
        "    elif sos_choice == '14':\n",
        "        pizza = Et(pizza)\n",
        "    elif sos_choice == '15':\n",
        "        pizza = Sogan(pizza)\n",
        "    else:\n",
        "        pizza = Misir(pizza)\n",
        "\n",
        "    # Toplam fiyatı hesaplama ve ekrana yazdırma\n",
        "    total_cost = pizza.get_cost()\n",
        "    print(\"Toplam tutar: {:.2f} TL\".format(total_cost))\n",
        "\n",
        "    # Sipariş bilgilerini isteme\n",
        "    name = input(\"İsim: \")\n",
        "    tc = input(\"TC Kimlik Numarası: \")\n",
        "    cc_num = input(\"Kredi Kartı Numarası: \")\n",
        "    cc_cvv = input(\"Kredi Kartı Şifresi: \")\n",
        "\n",
        "    # Sipariş zamanını kaydetme\n",
        "    order_time = datetime.now().strftime(\"%d/%m/%Y %H:%M:%S\")\n",
        "\n",
        "    # Veritabanına sipariş bilgilerini yazma\n",
        "    with open('Orders_Database.csv', 'a', newline='') as file:\n",
        "        writer = csv.writer(file)\n",
        "        writer.writerow([Pizza.get_description(), name, tc, cc_num, \"Pizza ve {} soslu pizza\".format(Pizza.get_description()), order_time, cc_cvv])\n",
        "\n"
      ],
      "metadata": {
        "id": "-qjVvAuS5tB-"
      },
      "execution_count": 7,
      "outputs": []
    }
  ]
}